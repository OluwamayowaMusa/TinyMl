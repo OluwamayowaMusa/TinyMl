{
  "cells": [
    {
      "cell_type": "markdown",
      "metadata": {
        "id": "view-in-github",
        "colab_type": "text"
      },
      "source": [
        "<a href=\"https://colab.research.google.com/github/OluwamayowaMusa/TinyMl/blob/main/TINYML_SVM.ipynb\" target=\"_parent\"><img src=\"https://colab.research.google.com/assets/colab-badge.svg\" alt=\"Open In Colab\"/></a>"
      ]
    },
    {
      "cell_type": "markdown",
      "metadata": {
        "id": "mKqweDdLLdJX"
      },
      "source": [
        "Hello, It's been a while. Let's play 😀\n",
        "\n",
        "Let's import our favourite libraries"
      ]
    },
    {
      "cell_type": "code",
      "execution_count": 1,
      "metadata": {
        "id": "ITL4vbbVLtNZ"
      },
      "outputs": [],
      "source": [
        "import numpy as np\n",
        "import matplotlib.pyplot as plt\n",
        "import cv2\n",
        "from sklearn import datasets, svm, metrics, ensemble, tree, linear_model\n",
        "from keras.datasets import mnist"
      ]
    },
    {
      "cell_type": "code",
      "execution_count": 2,
      "metadata": {
        "id": "vL_obh8uMeCc",
        "colab": {
          "base_uri": "https://localhost:8080/"
        },
        "outputId": "94bd74dc-56a3-4e36-f0f7-9b5a2eef1e29"
      },
      "outputs": [
        {
          "output_type": "stream",
          "name": "stdout",
          "text": [
            "Downloading data from https://storage.googleapis.com/tensorflow/tf-keras-datasets/mnist.npz\n",
            "11490434/11490434 [==============================] - 0s 0us/step\n"
          ]
        }
      ],
      "source": [
        "(x_train, y_train), (x_test, y_test) = mnist.load_data()"
      ]
    },
    {
      "cell_type": "code",
      "execution_count": 3,
      "metadata": {
        "colab": {
          "base_uri": "https://localhost:8080/"
        },
        "id": "yU3wcX-7MgXD",
        "outputId": "9ce11e13-cf42-47f8-f693-97d213e14b6e"
      },
      "outputs": [
        {
          "output_type": "stream",
          "name": "stdout",
          "text": [
            "(60000, 28, 28)\n",
            "(60000,)\n",
            "(10000, 28, 28)\n",
            "(10000,)\n"
          ]
        }
      ],
      "source": [
        "print(x_train.shape)\n",
        "print(y_train.shape)\n",
        "print(x_test.shape)\n",
        "print(y_test.shape)"
      ]
    },
    {
      "cell_type": "code",
      "source": [
        "new = 12"
      ],
      "metadata": {
        "id": "yxKfcU5C7uIG"
      },
      "execution_count": 4,
      "outputs": []
    },
    {
      "cell_type": "code",
      "source": [
        "images = []\n",
        "for image in x_train:\n",
        "  res = cv2.resize(image, dsize=(new, new))\n",
        "  res = res/255\n",
        "  images.append(res)\n",
        "\n",
        "images = np.array(images)"
      ],
      "metadata": {
        "id": "-5vSxnZ25n7t"
      },
      "execution_count": 5,
      "outputs": []
    },
    {
      "cell_type": "code",
      "source": [
        "images_test = []\n",
        "for image in x_test:\n",
        "  res = cv2.resize(image, dsize=(new, new))\n",
        "  res = res/255\n",
        "  images_test.append(res)\n",
        "\n",
        "images_test = np.array(images_test)"
      ],
      "metadata": {
        "id": "-hDmuikZ6vXc"
      },
      "execution_count": 6,
      "outputs": []
    },
    {
      "cell_type": "code",
      "execution_count": 7,
      "metadata": {
        "id": "i9XooHOHNNeX"
      },
      "outputs": [],
      "source": [
        "images, labels = (images[0:60000].reshape(60000, new*new), y_train[0:60000])\n",
        "images_test = images_test.reshape(10000, new*new)"
      ]
    },
    {
      "cell_type": "code",
      "execution_count": 8,
      "metadata": {
        "colab": {
          "base_uri": "https://localhost:8080/",
          "height": 447
        },
        "id": "xcHEZyDpNWEK",
        "outputId": "7b88d6f4-e7a9-450d-f9a6-12b3e00a275a"
      },
      "outputs": [
        {
          "output_type": "stream",
          "name": "stdout",
          "text": [
            "5\n"
          ]
        },
        {
          "output_type": "display_data",
          "data": {
            "text/plain": [
              "<Figure size 640x480 with 1 Axes>"
            ],
            "image/png": "[encoded data removed]"
          },
          "metadata": {}
        }
      ],
      "source": [
        "plt.imshow(images[0].reshape(new, new), cmap=\"gray\")\n",
        "print(labels[0])"
      ]
    },
    {
      "cell_type": "markdown",
      "metadata": {
        "id": "XJznkFWHNyEP"
      },
      "source": [
        "Let's Implement our model"
      ]
    },
    {
      "cell_type": "code",
      "execution_count": 9,
      "metadata": {
        "colab": {
          "base_uri": "https://localhost:8080/",
          "height": 74
        },
        "id": "jpKYG3-hOfSi",
        "outputId": "69ec95e9-c021-4828-a371-acfdac3e5ead"
      },
      "outputs": [
        {
          "output_type": "execute_result",
          "data": {
            "text/plain": [
              "LinearSVC(max_iter=100000)"
            ],
            "text/html": [
              "<style>#sk-container-id-1 {color: black;background-color: white;}#sk-container-id-1 pre{padding: 0;}#sk-container-id-1 div.sk-toggleable {background-color: white;}#sk-container-id-1 label.sk-toggleable__label {cursor: pointer;display: block;width: 100%;margin-bottom: 0;padding: 0.3em;box-sizing: border-box;text-align: center;}#sk-container-id-1 label.sk-toggleable__label-arrow:before {content: \"▸\";float: left;margin-right: 0.25em;color: #696969;}#sk-container-id-1 label.sk-toggleable__label-arrow:hover:before {color: black;}#sk-container-id-1 div.sk-estimator:hover label.sk-toggleable__label-arrow:before {color: black;}#sk-container-id-1 div.sk-toggleable__content {max-height: 0;max-width: 0;overflow: hidden;text-align: left;background-color: #f0f8ff;}#sk-container-id-1 div.sk-toggleable__content pre {margin: 0.2em;color: black;border-radius: 0.25em;background-color: #f0f8ff;}#sk-container-id-1 input.sk-toggleable__control:checked~div.sk-toggleable__content {max-height: 200px;max-width: 100%;overflow: auto;}#sk-container-id-1 input.sk-toggleable__control:checked~label.sk-toggleable__label-arrow:before {content: \"▾\";}#sk-container-id-1 div.sk-estimator input.sk-toggleable__control:checked~label.sk-toggleable__label {background-color: #d4ebff;}#sk-container-id-1 div.sk-label input.sk-toggleable__control:checked~label.sk-toggleable__label {background-color: #d4ebff;}#sk-container-id-1 input.sk-hidden--visually {border: 0;clip: rect(1px 1px 1px 1px);clip: rect(1px, 1px, 1px, 1px);height: 1px;margin: -1px;overflow: hidden;padding: 0;position: absolute;width: 1px;}#sk-container-id-1 div.sk-estimator {font-family: monospace;background-color: #f0f8ff;border: 1px dotted black;border-radius: 0.25em;box-sizing: border-box;margin-bottom: 0.5em;}#sk-container-id-1 div.sk-estimator:hover {background-color: #d4ebff;}#sk-container-id-1 div.sk-parallel-item::after {content: \"\";width: 100%;border-bottom: 1px solid gray;flex-grow: 1;}#sk-container-id-1 div.sk-label:hover label.sk-toggleable__label {background-color: #d4ebff;}#sk-container-id-1 div.sk-serial::before {content: \"\";position: absolute;border-left: 1px solid gray;box-sizing: border-box;top: 0;bottom: 0;left: 50%;z-index: 0;}#sk-container-id-1 div.sk-serial {display: flex;flex-direction: column;align-items: center;background-color: white;padding-right: 0.2em;padding-left: 0.2em;position: relative;}#sk-container-id-1 div.sk-item {position: relative;z-index: 1;}#sk-container-id-1 div.sk-parallel {display: flex;align-items: stretch;justify-content: center;background-color: white;position: relative;}#sk-container-id-1 div.sk-item::before, #sk-container-id-1 div.sk-parallel-item::before {content: \"\";position: absolute;border-left: 1px solid gray;box-sizing: border-box;top: 0;bottom: 0;left: 50%;z-index: -1;}#sk-container-id-1 div.sk-parallel-item {display: flex;flex-direction: column;z-index: 1;position: relative;background-color: white;}#sk-container-id-1 div.sk-parallel-item:first-child::after {align-self: flex-end;width: 50%;}#sk-container-id-1 div.sk-parallel-item:last-child::after {align-self: flex-start;width: 50%;}#sk-container-id-1 div.sk-parallel-item:only-child::after {width: 0;}#sk-container-id-1 div.sk-dashed-wrapped {border: 1px dashed gray;margin: 0 0.4em 0.5em 0.4em;box-sizing: border-box;padding-bottom: 0.4em;background-color: white;}#sk-container-id-1 div.sk-label label {font-family: monospace;font-weight: bold;display: inline-block;line-height: 1.2em;}#sk-container-id-1 div.sk-label-container {text-align: center;}#sk-container-id-1 div.sk-container {/* jupyter's `normalize.less` sets `[hidden] { display: none; }` but bootstrap.min.css set `[hidden] { display: none !important; }` so we also need the `!important` here to be able to override the default hidden behavior on the sphinx rendered scikit-learn.org. See: https://github.com/scikit-learn/scikit-learn/issues/21755 */display: inline-block !important;position: relative;}#sk-container-id-1 div.sk-text-repr-fallback {display: none;}</style><div id=\"sk-container-id-1\" class=\"sk-top-container\"><div class=\"sk-text-repr-fallback\"><pre>LinearSVC(max_iter=100000)</pre><b>In a Jupyter environment, please rerun this cell to show the HTML representation or trust the notebook. <br />On GitHub, the HTML representation is unable to render, please try loading this page with nbviewer.org.</b></div><div class=\"sk-container\" hidden><div class=\"sk-item\"><div class=\"sk-estimator sk-toggleable\"><input class=\"sk-toggleable__control sk-hidden--visually\" id=\"sk-estimator-id-1\" type=\"checkbox\" checked><label for=\"sk-estimator-id-1\" class=\"sk-toggleable__label sk-toggleable__label-arrow\">LinearSVC</label><div class=\"sk-toggleable__content\"><pre>LinearSVC(max_iter=100000)</pre></div></div></div></div></div>"
            ]
          },
          "metadata": {},
          "execution_count": 9
        }
      ],
      "source": [
        "model = svm.LinearSVC(max_iter=100000)\n",
        "model.fit(images, labels)"
      ]
    },
    {
      "cell_type": "code",
      "execution_count": 10,
      "metadata": {
        "id": "K1eQyc3FeDIG"
      },
      "outputs": [],
      "source": [
        "predicted = model.predict(images_test)"
      ]
    },
    {
      "cell_type": "code",
      "execution_count": 11,
      "metadata": {
        "id": "jrWrLnlqE6kD",
        "colab": {
          "base_uri": "https://localhost:8080/"
        },
        "outputId": "4055e7df-f6c6-488a-cf3e-b8fef3c57f2e"
      },
      "outputs": [
        {
          "output_type": "stream",
          "name": "stdout",
          "text": [
            "Classification report for classifier LinearSVC(max_iter=100000):\n",
            "              precision    recall  f1-score   support\n",
            "\n",
            "           0       0.94      0.98      0.96       980\n",
            "           1       0.95      0.98      0.96      1135\n",
            "           2       0.92      0.87      0.90      1032\n",
            "           3       0.89      0.90      0.90      1010\n",
            "           4       0.89      0.91      0.90       982\n",
            "           5       0.87      0.84      0.86       892\n",
            "           6       0.93      0.94      0.94       958\n",
            "           7       0.93      0.90      0.91      1028\n",
            "           8       0.86      0.84      0.85       974\n",
            "           9       0.87      0.87      0.87      1009\n",
            "\n",
            "    accuracy                           0.91     10000\n",
            "   macro avg       0.90      0.90      0.90     10000\n",
            "weighted avg       0.91      0.91      0.91     10000\n",
            "\n",
            "\n"
          ]
        }
      ],
      "source": [
        "print(\n",
        "    f\"Classification report for classifier {model}:\\n\"\n",
        "    f\"{metrics.classification_report(y_test, predicted)}\\n\"\n",
        ")"
      ]
    },
    {
      "cell_type": "code",
      "source": [
        "!pip install m2cgen"
      ],
      "metadata": {
        "colab": {
          "base_uri": "https://localhost:8080/"
        },
        "id": "2lh4vlzDohky",
        "outputId": "8e912fcc-a35b-4ea4-f66e-4bdda53bde91"
      },
      "execution_count": 12,
      "outputs": [
        {
          "output_type": "stream",
          "name": "stdout",
          "text": [
            "Collecting m2cgen\n",
            "  Downloading m2cgen-0.10.0-py3-none-any.whl (92 kB)\n",
            "\u001b[?25l     \u001b[90m━━━━━━━━━━━━━━━━━━━━━━━━━━━━━━━━━━━━━━━━\u001b[0m \u001b[32m0.0/92.2 kB\u001b[0m \u001b[31m?\u001b[0m eta \u001b[36m-:--:--\u001b[0m\r\u001b[2K     \u001b[91m━━━━━━━━━━━━━━━━━━━━━━━━━━\u001b[0m\u001b[91m╸\u001b[0m\u001b[90m━━━━━━━━━━━━━\u001b[0m \u001b[32m61.4/92.2 kB\u001b[0m \u001b[31m1.6 MB/s\u001b[0m eta \u001b[36m0:00:01\u001b[0m\r\u001b[2K     \u001b[90m━━━━━━━━━━━━━━━━━━━━━━━━━━━━━━━━━━━━━━━━\u001b[0m \u001b[32m92.2/92.2 kB\u001b[0m \u001b[31m1.8 MB/s\u001b[0m eta \u001b[36m0:00:00\u001b[0m\n",
            "\u001b[?25hRequirement already satisfied: numpy in /usr/local/lib/python3.10/dist-packages (from m2cgen) (1.23.5)\n",
            "Installing collected packages: m2cgen\n",
            "Successfully installed m2cgen-0.10.0\n"
          ]
        }
      ]
    },
    {
      "cell_type": "code",
      "source": [
        "import numpy as np\n",
        "import m2cgen as m2c\n",
        "import sys\n",
        "sys.setrecursionlimit(2147483647)\n",
        "code = m2c.export_to_python(model)\n",
        "with open('svm.py', 'w') as f:\n",
        "    f.write(code)"
      ],
      "metadata": {
        "id": "YlkgnYY515OD"
      },
      "execution_count": 13,
      "outputs": []
    },
    {
      "cell_type": "code",
      "source": [
        "!ls"
      ],
      "metadata": {
        "colab": {
          "base_uri": "https://localhost:8080/"
        },
        "id": "QCXzG9vp19EV",
        "outputId": "6e62c230-5192-40f5-820f-1dd2f97f194a"
      },
      "execution_count": 14,
      "outputs": [
        {
          "output_type": "stream",
          "name": "stdout",
          "text": [
            "sample_data  svm.py\n"
          ]
        }
      ]
    },
    {
      "cell_type": "code",
      "source": [
        "!pip install python-minimizer"
      ],
      "metadata": {
        "colab": {
          "base_uri": "https://localhost:8080/"
        },
        "id": "SgcYp3B02ID0",
        "outputId": "a860f7f6-dc7e-4726-86a0-42f9bba46fce"
      },
      "execution_count": 15,
      "outputs": [
        {
          "output_type": "stream",
          "name": "stdout",
          "text": [
            "Collecting python-minimizer\n",
            "  Downloading python_minimizer-2.0.1-py3-none-any.whl (6.8 kB)\n",
            "Installing collected packages: python-minimizer\n",
            "Successfully installed python-minimizer-2.0.1\n"
          ]
        }
      ]
    },
    {
      "cell_type": "code",
      "source": [
        "!python-minimizer svm.py -o svm_min.py"
      ],
      "metadata": {
        "id": "qPTYi7mZ2NgK"
      },
      "execution_count": 16,
      "outputs": []
    },
    {
      "cell_type": "code",
      "source": [
        "!ls"
      ],
      "metadata": {
        "colab": {
          "base_uri": "https://localhost:8080/"
        },
        "id": "-ndDJqiG2SAV",
        "outputId": "93d6246a-c04e-495b-bd46-d179a28b9b44"
      },
      "execution_count": 17,
      "outputs": [
        {
          "output_type": "stream",
          "name": "stdout",
          "text": [
            "sample_data  svm_min.py  svm.py\n"
          ]
        }
      ]
    },
    {
      "cell_type": "code",
      "source": [
        "!cat svm_min.py"
      ],
      "metadata": {
        "id": "ff_xPJ462ToF",
        "colab": {
          "base_uri": "https://localhost:8080/"
        },
        "outputId": "1f62b7c3-1c07-41a2-a3cf-9add342b7986"
      },
      "execution_count": 18,
      "outputs": [
        {
          "output_type": "stream",
          "name": "stdout",
          "text": [
            "def score(input):\n",
            "\tvar0=-1.1998734952544998+input[0]*0.0+input[1]*0.0+input[2]*0.0+input[3]*0.0+input[4]*-0.0321470753525202+input[5]*0.7362323677535725+input[6]*0.4329077541954321+input[7]*0.9122382751802319+input[8]*0.0000000000000000015178830414797062+input[9]*-0.000000000000000003469446951953614+input[10]*0.0+input[11]*0.0+input[12]*0.0+input[13]*0.007862422261390944+input[14]*-0.916574277087188+input[15]*-0.346222583917879+input[16]*-0.5376047876782658+input[17]*-0.34734835938521924+input[18]*-0.35756040230890535+input[19]*-0.4587590982147477+input[20]*-0.5206448413806775+input[21]*-0.6546524468225543+input[22]*-0.1464706912640908+input[23]*-0.2536647032204567+input[24]*0.0+input[25]*-0.12013350255132561+input[26]*-0.37875278336225354+input[27]*-0.24109017006118907+input[28]*-0.14674365746675355+input[29]*-0.03249691749220999+input[30]*0.23452108195162563+input[31]*0.1514359563467745+input[32]*0.002044978243522496+input[33]*0.06907186227766056\n",
            "\tvar1=input[34]*-0.7782818817581385\n",
            "\tvar2=var0+var1+input[35]*-1.57841188485589+input[36]*0.16911563613935135+input[37]*-0.6438256903774531+input[38]*-0.12318447904613224+input[39]*-0.20240333410432243+input[40]*0.005280364860430528+input[41]*-0.017203012274576095+input[42]*0.2109647397115171+input[43]*0.4548506757202647+input[44]*0.25064853971717144+input[45]*0.03860068252138093+input[46]*-0.47926245162804954+input[47]*-2.438966466210862+input[48]*0.0+input[49]*-0.43122580311958725+input[50]*-0.14918804058137913+input[51]*0.026652606131187095+input[52]*-0.04394565583469442+input[53]*0.024157264029025183+input[54]*-0.11714431855233436+input[55]*0.25818621737467085+input[56]*0.30511926683849594+input[57]*0.21745267048371114+input[58]*-0.06957216497627246+input[59]*-1.8889448101442035+input[60]*0.03725095561025286+input[61]*-0.2560875919389536+input[62]*0.22854377759682065+input[63]*0.07749640501786433+input[64]*0.1439012465692174+input[65]*0.011443599412165053+input[66]*-1.3272145766976822+input[67]*-0.14825994865794134+input[68]*-0.010113195056056474+input[69]*0.39876631131266205+input[70]*0.3720747679402101+input[71]*-1.463102979430938+input[72]*-0.00000000000000000005421010862427522+input[73]*-0.9151585630619933+input[74]*0.32671540502832147+input[75]*0.5060470377366922+input[76]*0.38939732106188985+input[77]*-0.27077561878864953+input[78]*-1.3868717914369613+input[79]*-0.2277965230706914+input[80]*-0.0938996363481419+input[81]*0.1878874815986111+input[82]*0.2865769474074903+input[83]*-0.8169669402221791+input[84]*0.0+input[85]*-0.5111782422136497+input[86]*0.24537007623134469+input[87]*0.3193837353545791+input[88]*0.33649945020666505\n",
            "\tvar3=input[89]*-0.6208166774532049\n",
            "\tvar4=0.035574117134570905+input[0]*0.0+input[1]*0.0+input[2]*0.0+input[3]*-0.6888591299580955+input[4]*-0.5217560126766435+input[5]*-0.17271758637093623+input[6]*0.12270508344581417+input[7]*-0.4422139272720156+input[8]*0.0+input[9]*0.0+input[10]*0.0+input[11]*0.0+input[12]*0.0+input[13]*0.011809336403573232+input[14]*-0.2749569172014434+input[15]*-0.61353138224427+input[16]*-1.3283166497854029+input[17]*-0.8038013402953773+input[18]*-0.35241501740611125+input[19]*-0.3891800277806882+input[20]*-0.6638688575525377+input[21]*-0.5396830892432398+input[22]*-0.7696441010356748+input[23]*-0.6792553481573405+input[24]*0.0+input[25]*-0.16064717008350038+input[26]*0.48758377983292656+input[27]*-1.2630784839972604+input[28]*-0.6146638259416011+input[29]*-0.39378802150662473+input[30]*-0.39496163852853305+input[31]*-0.44923321053366005+input[32]*-0.03301267249556614+input[33]*0.26469538206394994\n",
            "\tvar5=input[34]*-0.323102661402892\n",
            "\tvar6=var4+var5+input[35]*-1.3378212770265145+input[36]*-0.0039824191247158506+input[37]*-0.2544440950362176+input[38]*-0.7644594423883097+input[39]*-0.8874392669886018+input[40]*-0.6452763209245428+input[41]*-0.3329499157103986+input[42]*-0.4459520705588296+input[43]*-0.31250779859465566+input[44]*-0.28883183684149594+input[45]*-0.29787269256733306+input[46]*-1.6388923764785537+input[47]*-0.8079662397480012+input[48]*-0.20234810561917338+input[49]*-0.5993050455499702+input[50]*-1.3933938866095836+input[51]*-0.25815353585012807+input[52]*-0.20447903791165872+input[53]*0.1323389365806259+input[54]*0.8774993619373553+input[55]*-0.1377907156961803+input[56]*-0.4609594466237371+input[57]*-0.39146765160706287+input[58]*-1.931395311323571+input[59]*-0.39006048842966945+input[60]*0.00000000000000000008131516293641283+input[61]*0.09345810566613898+input[62]*-0.5120656559517808+input[63]*-0.43572278376714135+input[64]*-0.9646089769945964+input[65]*-0.09929898908207434+input[66]*0.9821118004854994+input[67]*0.02430970370727485+input[68]*-0.5456334215703224+input[69]*-0.26384678863347105+input[70]*-1.3273260581773203+input[71]*-0.43176799162770024+input[72]*0.0+input[73]*0.3701128706548281+input[74]*-0.8373839376834094+input[75]*0.02281403932800923+input[76]*-0.8486846705653001+input[77]*0.12070794638329284+input[78]*0.3040992954132878+input[79]*-0.402358707274651+input[80]*-1.3391071547580338+input[81]*-0.20686265476245658+input[82]*-0.8843938629287783+input[83]*-0.152280134070937+input[84]*0.0000000000000000006505213034913027+input[85]*-0.1545065592031985+input[86]*-1.227256310879335+input[87]*-0.24636431619251872+input[88]*-0.2820376579053662\n",
            "\tvar7=input[89]*0.17240762696259715\n",
            "\tvar8=-0.8705415185244574+input[0]*0.0+input[1]*0.0+input[2]*-0.005171477351012657+input[3]*-0.6463097314201057+input[4]*-0.812804409461404+input[5]*-1.17682908261675+input[6]*-0.43702286655800937+input[7]*-0.3764570554659043+input[8]*-0.8882736484198527+input[9]*-0.2357019395966388+input[10]*0.0+input[11]*0.0+input[12]*0.0+input[13]*-0.0038528219308053674+input[14]*-0.2801324384997978+input[15]*0.26109174149685743+input[16]*0.24028918998453666+input[17]*0.1857592707624894+input[18]*-0.03197012809396648+input[19]*-0.13039430280909342+input[20]*-0.2885347124748522+input[21]*-0.4252767926629828+input[22]*-0.007726312846773341+input[23]*0.0+input[24]*0.0+input[25]*-0.20066978212741163+input[26]*-0.125496314348233+input[27]*0.16199627356020407+input[28]*0.10823474293476697+input[29]*0.209301866551683+input[30]*0.22405692361341206+input[31]*0.11300412382776612+input[32]*-0.21345643885306514+input[33]*-0.31277768514598475\n",
            "\tvar9=input[34]*-0.8971346813909774\n",
            "\tvar10=var8+var9+input[35]*-0.11169611133183928+input[36]*0.2228081945093321+input[37]*-0.31942784657536816+input[38]*-0.003946945150656995+input[39]*-0.09239236613278622+input[40]*0.04813563923253492+input[41]*-0.005600780927371958+input[42]*0.02397337336539126+input[43]*-0.12398388736274171+input[44]*-0.095662877585041+input[45]*0.10051894344809696+input[46]*-1.0084924283490793+input[47]*-1.1483913363031153+input[48]*-0.24342510637375173+input[49]*0.03632503595457078+input[50]*0.3942552674406596+input[51]*-0.08700640669053407+input[52]*-0.11753596712691082+input[53]*-0.32643837886435295+input[54]*-0.1683892943060178+input[55]*0.1278288430768642+input[56]*0.030599946612079862+input[57]*-0.0720799483307364+input[58]*-0.4546970211499484+input[59]*0.33526986892496313+input[60]*-0.18596643125159948+input[61]*-1.2018117283159655+input[62]*-1.5296930211428867+input[63]*-1.1827525637721708+input[64]*-0.7307130660053799+input[65]*-0.7533172823725984+input[66]*-0.5996208926674351+input[67]*-0.20708994412902323+input[68]*0.008264212617587243+input[69]*-0.40791573787909585+input[70]*-0.10156378795413545+input[71]*2.3773184045853126+input[72]*-0.6729984065836582+input[73]*0.2760987916198175+input[74]*-0.011852127619878158+input[75]*-0.017177002767670712+input[76]*0.07686219239163304+input[77]*0.23254543931561003+input[78]*-0.029516280547289032+input[79]*-0.07259181667040662+input[80]*-0.2001310002179722+input[81]*-0.33323592206839375+input[82]*-0.08619375353759248+input[83]*3.986651651589934+input[84]*-0.256301773492689+input[85]*0.27652657156956945+input[86]*0.5203785921999405+input[87]*0.22056196629720184+input[88]*0.1158961902655232\n",
            "\tvar11=input[89]*0.28741833925935656\n",
            "\tvar12=-1.147049414846514+input[0]*0.0+input[1]*0.0+input[2]*0.0+input[3]*0.0+input[4]*0.000000000000000001734723475976807+input[5]*-0.054768261386389495+input[6]*-0.0672920821176629+input[7]*0.0+input[8]*0.000000000000000003469446951953614+input[9]*0.0000000000000000004336808689942018+input[10]*0.0+input[11]*0.0+input[12]*0.0+input[13]*-0.0020335142488409875+input[14]*0.8422745879851135+input[15]*0.00782326626112147+input[16]*-0.05313868998597725+input[17]*0.146727690159321+input[18]*0.1596464802465912+input[19]*0.12127100330368097+input[20]*0.29555860133909684+input[21]*-0.6939781022337168+input[22]*-0.4966795196338816+input[23]*0.0+input[24]*0.012843367427465724+input[25]*1.159578914379959+input[26]*0.43727053823543294+input[27]*0.1902430148522437+input[28]*0.23036248642512416+input[29]*0.21561703760579817+input[30]*0.0981034897428438+input[31]*-0.03989865363626909+input[32]*-0.13576957203323112+input[33]*-0.49542747726823716\n",
            "\tvar13=input[34]*-0.5033611639145931\n",
            "\tvar14=var12+var13+input[35]*-0.09795233394162245+input[36]*0.09647675503713486+input[37]*0.015655473209148302+input[38]*0.19457639376604655+input[39]*-0.039045648622875295+input[40]*-0.04648796180056488+input[41]*-0.030781548028819116+input[42]*0.1635963953562709+input[43]*0.1720680938957413+input[44]*0.1176495689058069+input[45]*-0.0918042353793535+input[46]*-1.4887740819295308+input[47]*-0.1102355684551454+input[48]*-1.1583554195897823+input[49]*0.19052309802180112+input[50]*0.13025257961055955+input[51]*-0.36596266458194626+input[52]*-0.6295981209494214+input[53]*-0.29887794019038055+input[54]*0.4235792512924094+input[55]*0.2633361105469767+input[56]*0.2916948272294141+input[57]*0.3754624829190704+input[58]*-1.8294626147410824+input[59]*-0.08289509398585282+input[60]*-0.8114399244053443+input[61]*-0.0017990916718471906+input[62]*-0.4922411859963746+input[63]*-0.49242799841801893+input[64]*-0.2325659467823022+input[65]*0.3431724106032027+input[66]*0.32885146022769635+input[67]*0.20631028181361133+input[68]*-0.19036379464380668+input[69]*-1.2526843112861947+input[70]*-0.8559164530117356+input[71]*-0.14629880187617225+input[72]*0.786599674586311+input[73]*0.02562846181150414+input[74]*-0.12010816715422153+input[75]*-0.3575510389247788+input[76]*-0.15621659014776418+input[77]*0.2125701949833669+input[78]*-0.034044418429311+input[79]*0.007190233719525992+input[80]*0.0503643112385691+input[81]*0.31382802315545655+input[82]*0.2523967577100862+input[83]*-0.4751905698094994+input[84]*0.4769393742151631+input[85]*0.7149188368698057+input[86]*0.01835037181043784+input[87]*-0.33870627561863936+input[88]*-0.651505446626074\n",
            "\tvar15=input[89]*-0.5387734826056126\n",
            "\tvar16=-0.6449027480632322+input[0]*0.0+input[1]*0.0+input[2]*-0.25974545403785576+input[3]*-1.4697652682140832+input[4]*-1.2275234347981192+input[5]*-1.165323817060115+input[6]*-1.4187481794503838+input[7]*-1.673667782850713+input[8]*-1.1407552663177092+input[9]*-1.9929735106884678+input[10]*0.0+input[11]*0.0+input[12]*0.0+input[13]*-0.47409855806361323+input[14]*-1.1367986181112615+input[15]*-1.9585629200645909+input[16]*-1.5590819781138934+input[17]*-2.0209714123403724+input[18]*-1.183551593257776+input[19]*-0.8244823341476935+input[20]*-0.6446823047179098+input[21]*-0.47189608248466386+input[22]*-1.134011200032181+input[23]*-0.1707310101452098+input[24]*0.0+input[25]*-0.2862279721760002+input[26]*0.06748220346582465+input[27]*-0.024468880601269352+input[28]*-0.18353644219263038+input[29]*-0.3568325015126046+input[30]*-0.3480643163928317+input[31]*-0.11087125034448793+input[32]*0.10617139402873478+input[33]*0.4514807154523532\n",
            "\tvar17=input[34]*0.2786532616388268\n",
            "\tvar18=var16+var17+input[35]*-0.5938597101947911+input[36]*-0.3008645476332158+input[37]*0.06345422074767197+input[38]*0.22329015384098735+input[39]*-0.11156368058304723+input[40]*-0.24717104164358608+input[41]*-0.7364364691959818+input[42]*-1.1727921600124203+input[43]*-0.49517263278288615+input[44]*-0.23346719487492268+input[45]*0.15091668640727626+input[46]*-0.16870801266770005+input[47]*-0.7890698549777923+input[48]*-0.3197258550117018+input[49]*-0.5578422109435291+input[50]*-0.5006125829663759+input[51]*-0.10639127346754394+input[52]*-0.08108377393949401+input[53]*-0.06936032250650224+input[54]*-0.5383352369680572+input[55]*0.11135092077432852+input[56]*-0.13997378031836566+input[57]*-0.20062329084235575+input[58]*-0.5072054633523307+input[59]*-1.3754315113621607+input[60]*-0.5551796197950063+input[61]*-0.8944303900537585+input[62]*-0.023888689893013834+input[63]*0.3052513403028766+input[64]*0.628284720157843+input[65]*0.3343574915562688+input[66]*-0.005392591547600341+input[67]*0.18184414826057632+input[68]*-0.09116078702187602+input[69]*-0.06930937032711229+input[70]*-0.4332371415478047+input[71]*-1.0617210655390237+input[72]*-0.09779954806753444+input[73]*0.2523071814311366+input[74]*0.36084103178763394+input[75]*0.5116665940409907+input[76]*0.4517412140239083+input[77]*0.09507471534529544+input[78]*0.4281971389767264+input[79]*0.46365430759650234+input[80]*0.463233356983242+input[81]*0.13467169038882115+input[82]*-0.7501122064107386+input[83]*-0.19953649471735965+input[84]*0.0+input[85]*-1.184483743055958+input[86]*-0.10319567227069114+input[87]*0.4232251262854644+input[88]*-0.12858037968383398\n",
            "\tvar19=input[89]*0.20428587454559527\n",
            "\tvar20=-0.10163761249533798+input[0]*0.0+input[1]*0.0+input[2]*0.0+input[3]*0.0+input[4]*-0.25437547910289987+input[5]*-0.12874867612063987+input[6]*-0.10126738956010549+input[7]*-0.07079424558336395+input[8]*-0.14612436411723306+input[9]*-0.014540394486978143+input[10]*0.0+input[11]*0.0+input[12]*0.0+input[13]*-0.1548950621632376+input[14]*-0.8475898185416438+input[15]*-0.9329671572362377+input[16]*-0.5140007859447371+input[17]*-0.43640297383951604+input[18]*-0.42108280058092795+input[19]*-0.23243580547782866+input[20]*-0.23958053559976283+input[21]*-0.1778984414225348+input[22]*-0.18160786277199564+input[23]*-0.023111022981839757+input[24]*0.0+input[25]*-0.9176586046938705+input[26]*-0.5970494893006536+input[27]*-0.32808480815742797+input[28]*-0.12306417608965961+input[29]*-0.2037973493459238+input[30]*-0.1932378188562488+input[31]*-0.035900828273600284+input[32]*0.18906997518584198+input[33]*0.3801062602126421\n",
            "\tvar21=input[34]*0.4661662903092258\n",
            "\tvar22=var20+var21+input[35]*0.3237308242050686+input[36]*-0.000000000000000000975781955236954+input[37]*-2.0695560537257514+input[38]*-0.5664846248178275+input[39]*0.027684428750413628+input[40]*0.17467434297167012+input[41]*0.06902723438076852+input[42]*-0.30655110467313734+input[43]*-0.12936231149973532+input[44]*0.007864716020196139+input[45]*0.33993643711330324+input[46]*1.0032399430495773+input[47]*0.9078476515232837+input[48]*-0.02923986904152966+input[49]*-1.5688086887568211+input[50]*-0.15533353434261896+input[51]*0.29191726256732176+input[52]*0.31025154566517993+input[53]*0.3020800031862443+input[54]*-0.21539934008652054+input[55]*-0.3374165756380997+input[56]*-0.544807691300371+input[57]*-0.24216758032327967+input[58]*1.356957174741996+input[59]*1.6080074428801505+input[60]*-0.574143450597954+input[61]*-0.3031709265095965+input[62]*0.48323287786909963+input[63]*0.195071936746333+input[64]*0.27675990578457277+input[65]*0.4916373092326701+input[66]*-0.26383415126042353+input[67]*-0.4168859864294825+input[68]*-0.49209900767566317+input[69]*-2.183340394892507+input[70]*-3.738352267167035+input[71]*2.290985742161442+input[72]*0.08613533387429466+input[73]*0.18284687547515802+input[74]*-0.6347743436376676+input[75]*-0.16530882939188865+input[76]*0.2181689696744757+input[77]*-0.0009168447121593806+input[78]*-0.4622077279215865+input[79]*-0.31393332400938007+input[80]*-0.11327343694978088+input[81]*0.054650801437931294+input[82]*0.5012586098367554+input[83]*-2.0479327398030054+input[84]*0.000000000000000003903127820947816+input[85]*-0.16268340862187064+input[86]*0.20904458203070425+input[87]*-0.5331376595680087+input[88]*-0.6176805084213733\n",
            "\tvar23=input[89]*-0.5295466500575198\n",
            "\tvar24=-0.9981948742335185+input[0]*0.0+input[1]*0.0+input[2]*0.0000000000000000017728399586032506+input[3]*0.4498945254529136+input[4]*0.23698640142720345+input[5]*0.6824462960284374+input[6]*-0.2599891002428754+input[7]*-0.05859511358050711+input[8]*1.0151898432510886+input[9]*0.0749548056082991+input[10]*0.0+input[11]*0.0+input[12]*0.0+input[13]*0.3097570401697629+input[14]*0.6764799756413382+input[15]*0.09847185169858472+input[16]*0.10085082552187144+input[17]*-0.023161113602514983+input[18]*0.22628795608532618+input[19]*0.3442769723577223+input[20]*0.5512235851234643+input[21]*0.5917404653703535+input[22]*0.6646503218185658+input[23]*0.8555647437503289+input[24]*0.0+input[25]*-0.741832402860698+input[26]*-0.41793722971346775+input[27]*-0.23611088645165787+input[28]*-0.39101882658256404+input[29]*-0.4895095971301534+input[30]*-0.5235971255079791+input[31]*-0.256468332654088+input[32]*-0.06614175552262655+input[33]*-0.04706896211124622\n",
            "\tvar25=input[34]*0.0015077597566459063\n",
            "\tvar26=var24+var25+input[35]*0.4754200945379095+input[36]*0.0+input[37]*-1.1204501036922068+input[38]*-0.311780343720877+input[39]*-0.12447182884346747+input[40]*-0.2415981919282728+input[41]*-0.35982970240030326+input[42]*-0.4264560187854152+input[43]*-0.7215214209776567+input[44]*-1.1804009297651437+input[45]*-0.8335525794269661+input[46]*-0.9605664921969594+input[47]*-0.09331833113845298+input[48]*0.00000000000000000010842021724855044+input[49]*-1.3049109133287353+input[50]*-0.2816980973233716+input[51]*-0.08270136910453242+input[52]*-0.11978826152813572+input[53]*-0.12878503081604797+input[54]*-0.5274274261740388+input[55]*-0.6362578923849316+input[56]*-0.47644343217539165+input[57]*-0.39597350874457915+input[58]*-0.2982632707995962+input[59]*-1.6331280581568604+input[60]*-0.07854886936976842+input[61]*-1.8854054951679398+input[62]*0.2636783595199118+input[63]*0.22206906729180687+input[64]*0.12257907391910261+input[65]*0.46028592768174104+input[66]*-0.2616231827185038+input[67]*-0.029344517176373406+input[68]*-0.1727130792044091+input[69]*0.5021834252234325+input[70]*0.6110581247094323+input[71]*-2.6493366883883387+input[72]*0.0+input[73]*-0.6729011208815666+input[74]*-0.022504819190360858+input[75]*0.22013155621885636+input[76]*0.40141480019645354+input[77]*0.08752543419700214+input[78]*0.22424361494840342+input[79]*-0.12450637627965229+input[80]*0.03050832089233267+input[81]*0.31630677858526485+input[82]*-0.02713997727709627+input[83]*-2.0504707193945655+input[84]*0.0+input[85]*-0.9846508625302071+input[86]*-0.21577781796920517+input[87]*0.20411784733123436+input[88]*0.4373175610712147\n",
            "\tvar27=input[89]*0.18725085544635015\n",
            "\tvar28=-0.36184795796857516+input[0]*0.0+input[1]*0.0+input[2]*0.0+input[3]*0.0000000000000000047704895589362195+input[4]*-0.0000000000000000014094628242311558+input[5]*-0.13454440734662973+input[6]*0.000000000000000027755575615628914+input[7]*-0.000000000000000016046192152785466+input[8]*-0.000000000000000001734723475976807+input[9]*-0.000000000000000001734723475976807+input[10]*0.0+input[11]*0.0+input[12]*0.0+input[13]*-0.05878642025217142+input[14]*-0.029086409333175838+input[15]*-0.7827107598586015+input[16]*-1.0799143673505078+input[17]*-1.248408133279729+input[18]*-1.1757454696813678+input[19]*-0.7439970359394312+input[20]*-0.17680091064938272+input[21]*0.0000000000000000022768245622195593+input[22]*0.0+input[23]*0.0+input[24]*0.0+input[25]*0.568182344005149+input[26]*-0.03928627656415605+input[27]*0.13937334272913934+input[28]*0.01452670314237687+input[29]*-0.20935446534527666+input[30]*-0.49519265158565895+input[31]*-0.4808837719863054+input[32]*-0.6727223901202771+input[33]*-0.6410558775129905\n",
            "\tvar29=input[34]*-1.2043135744126534\n",
            "\tvar30=var28+var29+input[35]*-0.31815337231316987+input[36]*0.7444684386362768+input[37]*0.6045363127160336+input[38]*0.24548129971908986+input[39]*0.5345496736589053+input[40]*0.383453011128333+input[41]*0.30595521487346594+input[42]*0.04850090350800532+input[43]*0.25404145283488266+input[44]*0.2948173098848922+input[45]*0.19037096316746555+input[46]*-0.2724176706957877+input[47]*-1.6098835372080775+input[48]*1.0379061677811907+input[49]*0.44210699090570793+input[50]*0.3370548481227524+input[51]*0.007246809162769944+input[52]*0.023445142979720942+input[53]*0.3842079436434179+input[54]*0.55567552721497+input[55]*0.4389874814067693+input[56]*0.24689733026202165+input[57]*0.18863129143628699+input[58]*-0.33599815845486214+input[59]*-0.3921760363149339+input[60]*1.5665380724072038+input[61]*1.0246938808417523+input[62]*0.03149482809618571+input[63]*-0.07552988922527602+input[64]*-0.19525116015581268+input[65]*-0.976722344756296+input[66]*-0.229026429335704+input[67]*0.17214568423511778+input[68]*-0.10273622940749833+input[69]*-0.1411218997386771+input[70]*-0.5860435300968374+input[71]*0.8902373229125551+input[72]*0.17388963949193814+input[73]*0.17197461963643018+input[74]*-0.15685568158396612+input[75]*-0.36666650738868956+input[76]*-0.4947849803145727+input[77]*-1.0607719525277666+input[78]*-0.1722295456294178+input[79]*0.12177304060396016+input[80]*0.5649992950639551+input[81]*0.5340844720268988+input[82]*-0.17341008365899527+input[83]*-0.7691717381427604+input[84]*0.0+input[85]*-0.0395295570896422+input[86]*-0.02281304386204167+input[87]*-0.21882473406343617+input[88]*-0.5147432264773203\n",
            "\tvar31=input[89]*-0.15512892110719187\n",
            "\tvar32=-1.958410049549809+input[0]*0.0+input[1]*0.0+input[2]*0.0+input[3]*-0.0000000000000000002168404344971009+input[4]*-0.000000000000000001734723475976807+input[5]*0.000000000000000001734723475976807+input[6]*-0.2151152443084763+input[7]*-0.07392780428576054+input[8]*-0.10862531980796854+input[9]*-0.04914723576476738+input[10]*0.0+input[11]*0.0+input[12]*0.0+input[13]*-0.3357107054761314+input[14]*-0.08913363621435247+input[15]*-0.2320156960708239+input[16]*-0.11861009321127838+input[17]*-0.5059561889567685+input[18]*-0.5700630543734926+input[19]*-0.48683057772716604+input[20]*-0.5180856880332687+input[21]*0.06703624664202167+input[22]*-0.12620487968008567+input[23]*-0.0000000000000000016805133673525319+input[24]*0.0+input[25]*-0.8024436319628129+input[26]*-0.5399413969100343+input[27]*-0.22800149641147519+input[28]*-0.10445356356948611+input[29]*0.20040409169149767+input[30]*0.34345341845393346+input[31]*0.2513718927420367+input[32]*0.005258566161306948+input[33]*-0.06356301853900682\n",
            "\tvar33=input[34]*-0.13872954686433683\n",
            "\tvar34=var32+var33+input[35]*0.28139229255622794+input[36]*-0.09536641274634096+input[37]*-0.24579238591376332+input[38]*-0.11103562862554932+input[39]*0.06945573851256186+input[40]*0.062450791707432396+input[41]*-0.015296637778770099+input[42]*-0.16706788068963144+input[43]*-0.10509645604769194+input[44]*-0.02778627579569846+input[45]*0.20990897034504286+input[46]*0.2037414322791583+input[47]*-0.1383727822481081+input[48]*-0.0062433980125501925+input[49]*-0.7228593775792806+input[50]*0.2719622132296166+input[51]*0.387633956236524+input[52]*0.3565266015302027+input[53]*0.28872860709452786+input[54]*-0.37142822819621735+input[55]*-0.07199878419183213+input[56]*0.2012504860826464+input[57]*0.3932774442803455+input[58]*0.21432151737437358+input[59]*0.02643675787252945+input[60]*0.0000000000000000067220534694101275+input[61]*-0.12735200002346275+input[62]*0.409080615487977+input[63]*0.06018019959841986+input[64]*-0.002205828040962955+input[65]*0.6143572915371339+input[66]*0.19875791101136817+input[67]*0.10452196182454528+input[68]*0.1609394437148351+input[69]*0.41958267531395094+input[70]*0.6407437986918919+input[71]*-0.46503960897995705+input[72]*0.0+input[73]*-0.27426396455451946+input[74]*-0.9021876925821904+input[75]*-0.6815502075626464+input[76]*-0.06752120781734978+input[77]*0.48218139635526397+input[78]*0.2768920289017692+input[79]*-0.17263757498100962+input[80]*-0.4195519307793005+input[81]*-0.46609579964297126+input[82]*-0.7438344525490039+input[83]*-1.0221791412083083+input[84]*-0.15764599443827657+input[85]*-0.5023303529624683+input[86]*-0.18795781346257004+input[87]*0.20804612852949897+input[88]*0.25501620776412254\n",
            "\tvar35=input[89]*0.5313854940555848\n",
            "\tvar36=-1.2027388098818168+input[0]*0.0+input[1]*0.0+input[2]*0.0+input[3]*-0.0242107311864739+input[4]*-0.11473781301415871+input[5]*-0.00000000000000005421010862427522+input[6]*-0.4685904435211471+input[7]*-0.6896914578055438+input[8]*-0.2959855076288113+input[9]*-0.21418981652874577+input[10]*0.0+input[11]*0.0+input[12]*0.0+input[13]*0.000000000000000008023096076392733+input[14]*-0.000000000000000001734723475976807+input[15]*-0.1325468803505184+input[16]*-0.5695847467454606+input[17]*-1.359817388146102+input[18]*-1.9300271070331152+input[19]*-1.344794081727328+input[20]*-1.4221290394140733+input[21]*-1.0243162373544725+input[22]*-0.0000000000000000013010426069826053+input[23]*0.0+input[24]*-0.010723570089067666+input[25]*-0.153217357358561+input[26]*-2.7881823093698728+input[27]*-1.1060261512352438+input[28]*-0.2723781334638949+input[29]*0.1680916129450547+input[30]*0.10644299019847442+input[31]*-0.08871491539132562+input[32]*-0.34996199941653566+input[33]*-1.0935667706190149\n",
            "\tvar37=input[34]*-1.8342361646359484\n",
            "\tvar38=var36+var37+input[35]*-0.389030902826745+input[36]*-0.43104018685882994+input[37]*-1.0541369754562657+input[38]*-0.7269518657459458+input[39]*-0.38097210613272+input[40]*-0.18451865130363554+input[41]*0.35649769667246267+input[42]*0.8895387880827585+input[43]*0.256894412848068+input[44]*-0.0864890547617008+input[45]*-0.2964289379653721+input[46]*-0.8226666969456451+input[47]*-1.1508767670701023+input[48]*-0.16750520961721638+input[49]*-0.5561086816664624+input[50]*-0.08156707954363229+input[51]*0.03625483882287361+input[52]*0.09540859375031112+input[53]*-0.10407771533660706+input[54]*-0.3891774197867052+input[55]*-0.17920794416888025+input[56]*-0.07182945996578065+input[57]*-0.07079573406032227+input[58]*-0.7046229979609432+input[59]*-1.2970540719756787+input[60]*-1.2116709167163275+input[61]*-0.43043252110927116+input[62]*0.6206415937286512+input[63]*0.4622399095253529+input[64]*0.2943103285501018+input[65]*-0.0273908547160375+input[66]*0.5401403778520487+input[67]*0.44941055347410425+input[68]*0.5917739182538303+input[69]*0.6183229845330118+input[70]*-1.0091470957712498+input[71]*-0.7604527819599639+input[72]*-0.024273099745557573+input[73]*0.2624767343120016+input[74]*-0.05550280497752373+input[75]*0.025991600917010693+input[76]*0.202270588942059+input[77]*0.14608665110688204+input[78]*0.034035322318986636+input[79]*0.22449097720467365+input[80]*-0.26770184776844985+input[81]*-0.31822279278543425+input[82]*-1.3486047447710718+input[83]*-0.23379272678859395+input[84]*-0.0884762220208999+input[85]*-0.1833422964648718+input[86]*-0.23680384504655677+input[87]*0.09890716697440495+input[88]*0.230067195875457\n",
            "\tvar39=input[89]*-0.08127430494173253\n",
            "\treturn [var2+var3+input[90]*-0.8225101782091819+input[91]*-0.02870293460639173+input[92]*0.029445437560889545+input[93]*0.008212254849064864+input[94]*-0.09026414161099779+input[95]*-0.2727652713003025+input[96]*0.5274825163192935+input[97]*-0.7108844740661361+input[98]*-0.0034649089472771413+input[99]*0.23439750331005882+input[100]*0.4050493076920652+input[101]*0.0464211896355673+input[102]*-0.431029619554686+input[103]*-0.21905432229478405+input[104]*-0.2443280881150965+input[105]*-0.07188021170698833+input[106]*-0.33215117864606947+input[107]*-0.30301990506100107+input[108]*0.0+input[109]*-0.6194715383355777+input[110]*0.05418289500523309+input[111]*0.04942473727013957+input[112]*0.31997584765308845+input[113]*0.36249398632393764+input[114]*0.026877258338357014+input[115]*-0.1789832218668871+input[116]*-0.25309479838646926+input[117]*-0.1956704170366995+input[118]*-0.4913030951363053+input[119]*0.47472664602358494+input[120]*0.0+input[121]*-0.13588444333344923+input[122]*-0.14521536944868488+input[123]*-0.18895162447004685+input[124]*-0.0002950647553411462+input[125]*0.045279795737134476+input[126]*-0.05894417965598064+input[127]*-0.17926051680885904+input[128]*-0.8041386830431316+input[129]*-0.5798780449089443+input[130]*0.000000000000000043395191953732315+input[131]*0.0+input[132]*0.0+input[133]*0.0+input[134]*-0.609927581965017+input[135]*-1.7365452087485118+input[136]*-2.1696630522205056+input[137]*-1.9473099120321407+input[138]*-2.6279864721558783+input[139]*-1.7199893139470075+input[140]*-0.6897169585506435+input[141]*-0.6400125780289458+input[142]*0.0+input[143]*0.0,var6+var7+input[90]*0.23106710736549138+input[91]*-0.603066565658339+input[92]*-0.31323538057624956+input[93]*-0.18155133449974367+input[94]*-0.21458957741601556+input[95]*-0.6299357247247973+input[96]*-0.08695200903067439+input[97]*-0.9218427072133664+input[98]*-1.2179802233816754+input[99]*-0.06397261450238657+input[100]*-0.0508908225642975+input[101]*0.38108186615307155+input[102]*-0.045171253279690786+input[103]*-0.17827137663384401+input[104]*0.36323402902025514+input[105]*-0.2384869661393071+input[106]*0.14334424744610957+input[107]*-0.010842691713955535+input[108]*-0.05757633030409523+input[109]*-0.017091545232079956+input[110]*0.8915957590210396+input[111]*0.10313304403232945+input[112]*-0.062378029736979014+input[113]*-0.4963170530810242+input[114]*0.09689598664755682+input[115]*0.31959756326123806+input[116]*0.4096970507167933+input[117]*-0.5715193507698384+input[118]*1.0050791168372064+input[119]*0.06520491112525886+input[120]*0.0+input[121]*-1.3368338729719669+input[122]*-0.03160332897136135+input[123]*-0.14468727032373724+input[124]*-0.24155302724954286+input[125]*-0.3531450918235021+input[126]*-0.44933702512729373+input[127]*-0.08988864080241356+input[128]*0.2914418014330768+input[129]*-0.5007852394141031+input[130]*0.000000000000000002087089182034596+input[131]*0.05962305077784119+input[132]*0.0+input[133]*0.0+input[134]*-0.5049966616636012+input[135]*-1.1023268542492173+input[136]*-1.984065543012731+input[137]*-2.9886390134646788+input[138]*-2.233788239046434+input[139]*-1.713552981520762+input[140]*-0.9292380787219706+input[141]*-0.15447800312372326+input[142]*0.0+input[143]*0.0,var10+var11+input[90]*0.3096624635880531+input[91]*0.14704856951513715+input[92]*-0.03833165235832205+input[93]*0.15773476304950196+input[94]*0.47075594924416647+input[95]*1.867715812562952+input[96]*-0.2676495430304097+input[97]*-0.16873754250078588+input[98]*0.28174089671529373+input[99]*0.41190809603382494+input[100]*0.28099403164310444+input[101]*0.1975050406494956+input[102]*0.1824395839841725+input[103]*0.054285993203856624+input[104]*0.13489599137578004+input[105]*0.2704896356923091+input[106]*0.9132266184686458+input[107]*0.9575170441685822+input[108]*-0.0640220900543827+input[109]*0.13014638010190455+input[110]*0.1802292731754383+input[111]*0.17734505471857948+input[112]*0.07653017298715149+input[113]*-0.07662789429301407+input[114]*-0.19797935647754444+input[115]*0.09580615778329075+input[116]*0.3225109512603012+input[117]*0.6148127577949087+input[118]*0.5942823052861029+input[119]*-0.9014398442569147+input[120]*0.0+input[121]*-1.5943332818050178+input[122]*-0.39838229717980633+input[123]*-0.29653187392274144+input[124]*-0.2699134536055874+input[125]*-0.19613992107251302+input[126]*-0.20908014739007486+input[127]*-0.07973121862092251+input[128]*0.08547637521159428+input[129]*0.0651703492736045+input[130]*0.9804987371852256+input[131]*-0.000000000000000001734723475976807+input[132]*0.0+input[133]*0.0+input[134]*-0.5476775741776146+input[135]*-0.9242774511203564+input[136]*-0.5033360490262823+input[137]*-1.1727095943590509+input[138]*-1.2862256259748486+input[139]*-1.0051353475617433+input[140]*-0.467012356457213+input[141]*-0.4479526136947628+input[142]*0.0+input[143]*0.0,var14+var15+input[90]*-0.3569230404752053+input[91]*0.14974527111250552+input[92]*0.3026716177862794+input[93]*0.3239868753739652+input[94]*-0.27496752300345495+input[95]*-0.6566406472513907+input[96]*-0.0005505658976493355+input[97]*0.8097672467429667+input[98]*0.2671764019656368+input[99]*-0.021320693543261087+input[100]*-0.30503788214842137+input[101]*-0.550026660374676+input[102]*-0.11365537020086933+input[103]*0.23127623265187663+input[104]*0.11739037271617114+input[105]*0.02342361337842721+input[106]*-0.7544264585561895+input[107]*-0.2964223138061048+input[108]*0.00022483041553258425+input[109]*0.4595852344700789+input[110]*0.31182157863207477+input[111]*0.08766897761175546+input[112]*0.06164691760501767+input[113]*0.06633169702470322+input[114]*-0.05814294928726018+input[115]*0.04129642439272659+input[116]*0.1595218909166775+input[117]*-0.33696800865538196+input[118]*-1.9449457775013257+input[119]*0.05152169624196014+input[120]*0.0+input[121]*0.8915817938615067+input[122]*0.6358066031664543+input[123]*0.33881867012982153+input[124]*0.16830250970002414+input[125]*0.08740565951887484+input[126]*0.007620536633015712+input[127]*-0.028313922906372253+input[128]*-0.2512280175932378+input[129]*-0.006330449337884468+input[130]*-0.624573596124831+input[131]*0.0+input[132]*0.0+input[133]*-0.001588057153018333+input[134]*0.057623252952318155+input[135]*-0.20339701359213275+input[136]*-0.30076864003099774+input[137]*-0.6230620484864138+input[138]*-1.0403959022686171+input[139]*-0.6617270881723332+input[140]*-0.15709434874134684+input[141]*-0.11840133510179095+input[142]*0.0+input[143]*0.0,var18+var19+input[90]*0.6459097558027225+input[91]*0.2032480237408455+input[92]*0.08940984667329964+input[93]*0.10213081271558078+input[94]*-0.5547759788220501+input[95]*-1.1268199562339667+input[96]*-0.22731140295639835+input[97]*0.1916219424260577+input[98]*-0.2797471834451772+input[99]*-0.7525874442234042+input[100]*-0.5668784850899876+input[101]*-0.08396195607783759+input[102]*0.02205974194937441+input[103]*-0.11123773843012327+input[104]*-0.3548121791703049+input[105]*-0.6431733482262313+input[106]*-1.0673715866763738+input[107]*0.01421017509516809+input[108]*0.0+input[109]*-1.1072420255768876+input[110]*-0.8874768386770702+input[111]*-0.5214263508801125+input[112]*-0.32462474277222897+input[113]*-0.42320439359086237+input[114]*-0.2118439708993795+input[115]*0.021516527751748067+input[116]*0.09172968658142636+input[117]*0.20301217517318684+input[118]*-0.09849820455349546+input[119]*0.0487785109750217+input[120]*0.0+input[121]*-0.1714502510211385+input[122]*-0.03453838026958905+input[123]*-0.10903331811838847+input[124]*-0.18549013850661555+input[125]*-0.337199803257777+input[126]*-0.20645029782962004+input[127]*-0.20679387751619566+input[128]*-0.12260943501015002+input[129]*-0.20410301314524898+input[130]*-0.4868638348498423+input[131]*0.0+input[132]*0.0+input[133]*0.0+input[134]*0.23107234571809343+input[135]*-1.9947676248433528+input[136]*-1.1079249911976703+input[137]*-1.4692256393351266+input[138]*-1.6847778148117092+input[139]*-1.459228401423282+input[140]*-2.3220586289356206+input[141]*-1.4167255876045837+input[142]*-0.03938556459966597+input[143]*0.0,var22+var23+input[90]*-0.3067124838604547+input[91]*-0.0031754323592877495+input[92]*-0.007713374639408665+input[93]*0.014345966788563118+input[94]*0.2183823093574172+input[95]*-1.5135790924774117+input[96]*-0.14683770395615012+input[97]*-0.08607819110088563+input[98]*0.22216710974456322+input[99]*0.32096995555979896+input[100]*0.06402804706175629+input[101]*0.08849755282962585+input[102]*-0.08183715581543254+input[103]*-0.011875179948015038+input[104]*0.052845472716321264+input[105]*0.24475195459463508+input[106]*0.2519003291732248+input[107]*-1.8477273467147715+input[108]*-0.001641949893616253+input[109]*-0.2385085411688606+input[110]*-0.14014377852622503+input[111]*0.0362725958513413+input[112]*0.16719153189713085+input[113]*0.14462458342357934+input[114]*-0.015159323789316847+input[115]*0.043596845703947694+input[116]*0.16025285999860014+input[117]*0.5126503422632847+input[118]*0.07463889578524517+input[119]*0.6009625311500677+input[120]*0.0+input[121]*-0.05719769692809926+input[122]*0.03339042167690045+input[123]*-0.014155825052578497+input[124]*0.07164461329090982+input[125]*0.11871267040761904+input[126]*0.08980040979254153+input[127]*-0.07026706979295479+input[128]*-0.09465164659939912+input[129]*-0.16485719862193987+input[130]*0.33214229176740606+input[131]*-0.06152928519007921+input[132]*0.0+input[133]*0.0+input[134]*-0.7015090616773157+input[135]*-1.4461140083511415+input[136]*-0.4536061503687962+input[137]*-0.47224891817297515+input[138]*-0.7002514571983605+input[139]*-0.7686907441225923+input[140]*-0.9706532942969877+input[141]*-0.5199346695988166+input[142]*-0.00978283861587742+input[143]*0.0,var26+var27+input[90]*-0.10469067385988318+input[91]*0.004873153295499485+input[92]*0.19124112879897812+input[93]*0.033193487877185374+input[94]*-0.13649244554544843+input[95]*-1.7276307872328813+input[96]*-0.025266754157955235+input[97]*-1.863026284855532+input[98]*-0.34570085421109825+input[99]*0.04475892162974026+input[100]*0.5461700825786985+input[101]*0.7538765445164036+input[102]*0.40011152162739305+input[103]*0.3551995751498957+input[104]*0.11364323415114728+input[105]*-0.027886037657686245+input[106]*-0.6822113801299905+input[107]*-0.6341985081246846+input[108]*0.0+input[109]*-0.05094560556920901+input[110]*-1.6201106994253773+input[111]*-0.09310644284646906+input[112]*-0.02896030451259095+input[113]*0.2679983238160585+input[114]*0.3537539639928017+input[115]*0.07741448744157035+input[116]*0.044094313772618944+input[117]*-0.42445863665705286+input[118]*-1.047564654287153+input[119]*0.7864415230546489+input[120]*0.0+input[121]*0.0+input[122]*-0.07670947847311525+input[123]*-0.7974737973766335+input[124]*-1.3660998590876732+input[125]*-0.5897791553786211+input[126]*-0.5578581981643553+input[127]*-0.14398098690272784+input[128]*-0.6965666717999162+input[129]*-0.5595314856037831+input[130]*0.00000000000000002818248022104508+input[131]*0.0000000000000000006505213034913027+input[132]*0.0+input[133]*0.0+input[134]*0.0+input[135]*0.0+input[136]*0.0+input[137]*-0.06366776022270215+input[138]*-0.22255097526576698+input[139]*-0.07477039018649242+input[140]*-0.19728033527317565+input[141]*-0.16594785325926967+input[142]*0.0+input[143]*0.0,var30+var31+input[90]*0.07575584223433988+input[91]*0.028692241898829334+input[92]*0.07310396790739988+input[93]*-0.11591713199386222+input[94]*-0.2745246673118748+input[95]*0.06738080586892164+input[96]*0.5897100056811232+input[97]*0.444064481745381+input[98]*-0.9647973932112986+input[99]*-0.8569092091767306+input[100]*-0.2146658193991033+input[101]*0.12036981576988358+input[102]*-0.18859864494833198+input[103]*-0.3987519348634862+input[104]*-0.7046226775908067+input[105]*-0.8420010159889479+input[106]*-0.472000178993042+input[107]*-0.000000000000000004336808689942018+input[108]*0.0+input[109]*-2.2159148274855585+input[110]*-0.36260389501281504+input[111]*-0.17594634425870764+input[112]*-0.1501479841175284+input[113]*-0.21617823021971774+input[114]*-0.31168671594954367+input[115]*-0.40214577810525026+input[116]*-0.6460743421591689+input[117]*-1.2005469108697677+input[118]*-0.4781651354841877+input[119]*-0.1025476296827062+input[120]*0.0+input[121]*-0.4335517636868315+input[122]*0.688354799399516+input[123]*0.15681578803556337+input[124]*0.03030894460598733+input[125]*0.07768011501142767+input[126]*0.13900327852155098+input[127]*0.0026375282885876383+input[128]*-0.3282075527999175+input[129]*-0.45446450379024117+input[130]*-0.883953536000608+input[131]*0.0+input[132]*0.0+input[133]*-0.07363239667253996+input[134]*-1.211041238613631+input[135]*0.05924311140735322+input[136]*0.016152681891053778+input[137]*0.0789305310706451+input[138]*0.27740281104820863+input[139]*0.26799189597167916+input[140]*0.0006301247591016372+input[141]*0.9162681488779353+input[142]*-0.017044291287798764+input[143]*0.0,var34+var35+input[90]*-0.03419467511684323+input[91]*-0.1361159405381825+input[92]*-0.20469758861896065+input[93]*-0.13410379810460768+input[94]*0.20604236057640368+input[95]*-0.9934064683752243+input[96]*-0.01613002188831607+input[97]*-1.1889238677361798+input[98]*-0.14840484551297875+input[99]*0.1272724911590814+input[100]*0.2246523803004355+input[101]*-0.32027069669364483+input[102]*-0.3568676852887648+input[103]*-0.18544564813786774+input[104]*-0.21524400136700364+input[105]*0.012457831229386413+input[106]*-0.4679438013990508+input[107]*-0.7799881518895221+input[108]*-0.00000000000000000010842021724855044+input[109]*-0.6077976275933836+input[110]*-0.14553154372419067+input[111]*-0.16108876360829985+input[112]*-0.11164233700683905+input[113]*0.21995173907036275+input[114]*0.10746287882408367+input[115]*0.002408182540744043+input[116]*-0.03699326138164004+input[117]*-0.0319607397740155+input[118]*-0.9640505156314474+input[119]*-0.5805219670515696+input[120]*0.0+input[121]*-0.7399515868505625+input[122]*-0.5400933433060481+input[123]*-0.04645612332977532+input[124]*0.041490387623751686+input[125]*0.13220471617192797+input[126]*0.2726411273814496+input[127]*0.16279707897079182+input[128]*0.4443722755971293+input[129]*-0.2814447743466745+input[130]*-0.9241940747690094+input[131]*-0.07238023917577206+input[132]*0.0+input[133]*0.0+input[134]*-1.1897284439300728+input[135]*-1.1262412633990866+input[136]*-1.1042866418941402+input[137]*-0.7386763089384887+input[138]*-1.1962371003664425+input[139]*-0.35329019904835857+input[140]*-1.1915872488493562+input[141]*-0.15533623900825194+input[142]*0.0+input[143]*0.0,var38+var39+input[90]*-0.020215359409859964+input[91]*-0.05934368291151765+input[92]*-0.17207616753321694+input[93]*-0.21547570581513653+input[94]*-1.1285485388651544+input[95]*-1.0209321930932767+input[96]*-0.4824172875587667+input[97]*-0.6964330715936923+input[98]*-0.12453801967988264+input[99]*-0.42094781823044114+input[100]*-0.339116727639926+input[101]*-0.34224317341133925+input[102]*-0.15844963567019238+input[103]*-0.1761179058179058+input[104]*0.12512062369340793+input[105]*-0.6039918910246808+input[106]*-0.4876906003146974+input[107]*-0.09687120801830833+input[108]*0.0000000000000000023852447794681098+input[109]*-0.44806235261703264+input[110]*-0.46873604426767657+input[111]*-0.31091684136898345+input[112]*-0.37152175494498496+input[113]*-0.39300931380556003+input[114]*-0.5685927805955979+input[115]*-0.5592962393268257+input[116]*-0.8024427637047025+input[117]*-0.1757918645242575+input[118]*0.7351613306607292+input[119]*-0.2612274187804408+input[120]*0.0+input[121]*-0.9292750387557147+input[122]*0.14585035419621806+input[123]*0.022647653058484086+input[124]*0.01899099267197854+input[125]*-0.04432980308656446+input[126]*-0.017127284781048375+input[127]*0.27912664771892726+input[128]*0.596277026906893+input[129]*1.036481866267424+input[130]*0.06345968830548034+input[131]*-0.7651230187012005+input[132]*0.0+input[133]*0.18407903605242612+input[134]*0.2958086724871611+input[135]*-0.481491821720805+input[136]*-0.4962065279459916+input[137]*-0.32681159783489744+input[138]*-0.10111490304068031+input[139]*0.009666142136179001+input[140]*0.535956909689649+input[141]*0.36508731307877157+input[142]*0.05025416168968408+input[143]*0.0]"
          ]
        }
      ]
    },
    {
      "cell_type": "code",
      "source": [],
      "metadata": {
        "id": "JslxMSZa8kJt"
      },
      "execution_count": 18,
      "outputs": []
    }
  ],
  "metadata": {
    "colab": {
      "provenance": [],
      "authorship_tag": "ABX9TyPXIr4jK6b3xUalqR++0O7x",
      "include_colab_link": true
    },
    "kernelspec": {
      "display_name": "Python 3",
      "name": "python3"
    },
    "language_info": {
      "name": "python"
    }
  },
  "nbformat": 4,
  "nbformat_minor": 0
}